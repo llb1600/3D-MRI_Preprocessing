{
 "cells": [
  {
   "cell_type": "code",
   "execution_count": 3,
   "metadata": {},
   "outputs": [],
   "source": [
    "import os,glob,re,time\n",
    "from subprocess import call, check_output"
   ]
  },
  {
   "cell_type": "code",
   "execution_count": 23,
   "metadata": {},
   "outputs": [],
   "source": [
    "#The directory should be organized as SampleID/Date/modality.\n",
    "#ex) 12345255-20101010 -T1\n",
    "#                      -T2\n",
    "#                      -T1CE\n",
    "#                      -FLAIR\n",
    "#            -20121010 -T1\n",
    "#                      -T2\n",
    "#                      -T1CE\n",
    "#                      -FLAIR\n"
   ]
  },
  {
   "cell_type": "code",
   "execution_count": 4,
   "metadata": {},
   "outputs": [],
   "source": [
    "def dir_rename(name_path,name):\n",
    "    for a in name_path:\n",
    "        b=f\"{os.path.dirname(a)}/{name}\"\n",
    "        os.rename(a,b)\n",
    "\n",
    "def DCMtoNII(data_path, new_dir_name):\n",
    "    direc=os.path.dirname(data_path)\n",
    "    dcm_paths = glob.glob(os.path.join(data_path, \"*\",\"*\",\"*\"))\n",
    "    print(f'sample :{len(dcm_paths)/4}')\n",
    "    print('dcm2nii start!!')\n",
    "    for i in dcm_paths:\n",
    "        new_dir = re.sub(os.path.basename(direc),new_dir_name,i)\n",
    "        print(new_dir)\n",
    "        call([\"mkdir\",\"-p\",new_dir])\n",
    "        call([\"./util/dcm2niix\",\"-o\",f\"{new_dir}/\",i])\n",
    "    print(\"dcm2nii is DONE\")\n",
    "        \n",
    "def join_path(path, pattern1):# pattern2=\"\", pattern3=\"\", pattern4=\"\"):\n",
    "    return  glob.glob(os.path.join(path, pattern1))[0]#,pattern2,pattern3,pattern4))[0]\n",
    "\n",
    "def reori(mri,out_direc,outname):\n",
    "    call([\"fslreorient2std\",mri,f\"{out_direc}/{outname}\"]) #outname = reori\n",
    "    \n",
    "def antregi_to_T1(T1_reori,T1CE_reori,T1_out_direc,outname):\n",
    "    call([\"./util/antsRegistration_coreristration.sh\",T1_reori,T1CE_reori,f\"{T1_out_direc}/\",outname])\n",
    "\n",
    "def brainextracrion(T1,template,mask,direc):\n",
    "    call([\"./util/antsInstallExample/install/bin/antsBrainExtraction.sh\",\"-d\",\"3\",\"-a\",T1,\"-e\",template,\"-m\", mask,\"-o\",f\"{direc}/\"])\n",
    "    \n",
    "def Truncate(N4_TRUNCATED_IMAGE,T2_Warped):\n",
    "    call([\"./util/antsInstallExample/install/bin/ImageMath\",\"3\",N4_TRUNCATED_IMAGE,\"TruncateImageIntensity\",T2_Warped,\"0.01\",\"0.999\",\"256\"])\n",
    "    \n",
    "def N4biascorrection(N4_TRUNCATED_IMAGE,N4_CONVERGENCE_1,N4_BSPLINE_PARAMS,N4_CORRECTED_IMAGE):\n",
    "    call([\"./util/antsInstallExample/install/bin/N4BiasFieldCorrection\",\"-d\",\"3\",\"-i\",N4_TRUNCATED_IMAGE,\"-s\",\"4\",\"-c\",N4_CONVERGENCE_1,\n",
    "          \"-b\",N4_BSPLINE_PARAMS,\"-o\",N4_CORRECTED_IMAGE,\"--verbose\",\"1\"])\n",
    "\n",
    "def brainextraction_with_mask_(N4_CORRECTED_IMAGE,T1CE_mask,BrainExtractionBrain_T2):\n",
    "    call([\"./util/antsInstallExample/install/bin/MultiplyImages\",\"3\",N4_CORRECTED_IMAGE, T1CE_mask, BrainExtractionBrain_T2 ])\n",
    "    \n",
    "def brainextraction_with_mask(N4_TRUNCATED_IMAGE,T2_Warped,N4_CONVERGENCE_1,N4_BSPLINE_PARAMS,N4_CORRECTED_IMAGE,T1CE_mask,BrainExtractionBrain_T2):\n",
    "    \n",
    "    Truncate(N4_TRUNCATED_IMAGE,T2_Warped)\n",
    "    N4biascorrection(N4_TRUNCATED_IMAGE,N4_CONVERGENCE_1,N4_BSPLINE_PARAMS,N4_CORRECTED_IMAGE)\n",
    "    brainextraction_with_mask_(N4_CORRECTED_IMAGE,T1CE_mask,BrainExtractionBrain_T2)\n"
   ]
  },
  {
   "cell_type": "code",
   "execution_count": 5,
   "metadata": {},
   "outputs": [],
   "source": [
    "direc_path = \"./raw_multiple//\" #raw data path\n",
    "new_dir_name = \"raw_multiple_nii/\" \n",
    "\n",
    "sample_path = f'./{new_dir_name}/'\n",
    "modal_lst = [\"T1\", \"T2\", \"T1CE\", \"FLAIR\"]\n",
    "T1_pattern=\"T1\"\n",
    "T2_pattern=\"T2\"\n",
    "T1CE_pattern=\"T1CE\"\n",
    "FLAIR_pattern=\"FLAIR\"\n",
    "reori_outname=\"reori\"\n",
    "template = \"./template/myTemplate_to_IXI_Warped.nii.gz\"\n",
    "mask = \"./template/reori_T_template2_LPI_rescale.Mask.nii.gz\"\n",
    "\n",
    "N4_CONVERGENCE_1=\"[ 50x50x50x50,0.0000001 ]\"\n",
    "N4_BSPLINE_PARAMS=\"[ 200 ]\""
   ]
  },
  {
   "cell_type": "code",
   "execution_count": 6,
   "metadata": {},
   "outputs": [],
   "source": [
    "name_path_FLAIR = glob.glob(os.path.join(direc_path, \"*\",\"*\",\"*FLAIR*\"))\n",
    "name_path_T1CE = glob.glob(os.path.join(direc_path, \"*\",\"*\",\"*CE*\"))\n",
    "\n",
    "dir_rename(name_path_FLAIR,FLAIR_pattern)\n",
    "dir_rename(name_path_T1CE,T1CE_pattern)"
   ]
  },
  {
   "cell_type": "markdown",
   "metadata": {},
   "source": [
    "dcm2nii"
   ]
  },
  {
   "cell_type": "code",
   "execution_count": null,
   "metadata": {
    "scrolled": true
   },
   "outputs": [],
   "source": [
    "DCMtoNII(direc_path,new_dir_name)"
   ]
  },
  {
   "cell_type": "markdown",
   "metadata": {},
   "source": [
    "rename directory (optional)"
   ]
  },
  {
   "cell_type": "code",
   "execution_count": 8,
   "metadata": {},
   "outputs": [],
   "source": [
    "data_path = glob.glob(os.path.join(sample_path, \"*\",\"*\"))\n",
    "for z in data_path:\n",
    "    date = os.path.basename(z)\n",
    "    date2=date.replace(\"-\",\"\")\n",
    "    date2_path=f\"{os.path.dirname(z)}/{date2}\"\n",
    "    os.rename(z,date2_path)\n"
   ]
  },
  {
   "cell_type": "markdown",
   "metadata": {},
   "source": [
    "run"
   ]
  },
  {
   "cell_type": "code",
   "execution_count": null,
   "metadata": {
    "scrolled": true
   },
   "outputs": [],
   "source": [
    "\n",
    "data_path = glob.glob(os.path.join(sample_path, \"*\",\"*\"))# *,* =sub, date\n",
    "error_lst = []\n",
    "try:\n",
    "    for i in data_path:\n",
    "        T1=glob.glob(os.path.join(i, T1_pattern,\"*.nii\"))\n",
    "        T2=glob.glob(os.path.join(i, T2_pattern,\"*.nii\"))\n",
    "        T1CE=glob.glob(os.path.join(i, T1CE_pattern,\"*.nii\"))\n",
    "        FLAIR=glob.glob(os.path.join(i, FLAIR_pattern,\"*.nii\"))\n",
    "\n",
    "        T1_out_direc=glob.glob(os.path.join(i, T1_pattern))[0]\n",
    "        T2_out_direc=glob.glob(os.path.join(i, T2_pattern))[0]\n",
    "        T1CE_out_direc=glob.glob(os.path.join(i, T1CE_pattern))[0]\n",
    "        FLAIR_out_direc=glob.glob(os.path.join(i, FLAIR_pattern))[0]\n",
    "\n",
    "        T1CE_mask = f\"{T1CE_out_direc}/BrainExtractionMask.nii.gz\"\n",
    "\n",
    "        print(f\"start !!! {i} preprocessing\" )\n",
    "        start = time.time()\n",
    "\n",
    "        if len(T2)==0 or len(T1)==0 or len(T1CE)==0 or len(FLAIR)==0:\n",
    "            print(f\"******somthing is not exist in {i}\")\n",
    "            error_lst.append(i)\n",
    "            continue\n",
    "\n",
    "        if os.path.isfile(T1CE_mask) == True:\n",
    "            print(f\"******{T1CE_mask} is already exist\")\n",
    "            continue\n",
    "\n",
    "        reori_outname_T1=f\"{reori_outname}_{modal_lst[0]}\"\n",
    "        reori_outname_T2=f\"{reori_outname}_{modal_lst[1]}\"\n",
    "        reori_outname_T1CE=f\"{reori_outname}_{modal_lst[2]}\"\n",
    "        reori_outname_FLAIR=f\"{reori_outname}_{modal_lst[3]}\"\n",
    "        print(FLAIR_out_direc)\n",
    "\n",
    "        print(f\"{modal_lst[0]} reorientation start\")\n",
    "        reori(T1[0],T1_out_direc,reori_outname_T1)\n",
    "        print(f\"{modal_lst[1]} reorientation start\")\n",
    "        reori(T2[0],T2_out_direc,reori_outname_T2)\n",
    "        print(f\"{modal_lst[2]} reorientation start\")\n",
    "        reori(T1CE[0],T1CE_out_direc,reori_outname_T1CE)\n",
    "        print(f\"{modal_lst[3]} reorientation start\")\n",
    "        reori(FLAIR[0],FLAIR_out_direc,reori_outname_FLAIR)\n",
    "\n",
    "\n",
    "\n",
    "        print(\"co-registration start\")   \n",
    "        T1_reori = f\"{T1_out_direc}/{reori_outname_T1}.nii.gz\"\n",
    "        T2_reori = f\"{T2_out_direc}/{reori_outname_T2}.nii.gz\"\n",
    "        T1CE_reori = f\"{T1CE_out_direc}/{reori_outname_T1CE}.nii.gz\"\n",
    "        FLAIR_reori = f\"{FLAIR_out_direc}/{reori_outname_FLAIR}.nii.gz\"\n",
    "        antregi_to_T1(T1_reori,T1CE_reori,T1_out_direc,\"reori_T1_\")\n",
    "        antregi_to_T1(T2_reori,T1CE_reori,T2_out_direc,\"reori_T2_\")\n",
    "        antregi_to_T1(FLAIR_reori,T1CE_reori,FLAIR_out_direc,\"reori_FLAIR_\")\n",
    "#         call([\"/data/ml_shared/data_llb1600/script/antsRegistration_coreristration.sh\",T2_reori,T1CE_reori,f\"{T2_out_direc}/\",\"reori_T2_\"])\n",
    "\n",
    "\n",
    "        print(\"start brain_extraction_T1CE\")\n",
    "        brainextracrion(T1CE_reori,template,mask,T1CE_out_direc)\n",
    "\n",
    "        print(\"start brain_extraction_T1\")\n",
    "        T1_Warped = f\"{T1_out_direc}/reori_T1_Warped.nii.gz\"\n",
    "\n",
    "        N4_TRUNCATED_IMAGE=f\"{T1_out_direc}/N4Truncated_T1.nii.gz\"\n",
    "        N4_CORRECTED_IMAGE=f\"{T1_out_direc}/N4Corrected_T1.nii.gz\"\n",
    "        BrainExtractionBrain_T1=f\"{T1_out_direc}/BrainExtractionBrain_T1.nii.gz\"\n",
    "\n",
    "        brainextraction_with_mask(N4_TRUNCATED_IMAGE,T1_Warped,N4_CONVERGENCE_1,\n",
    "                                  N4_BSPLINE_PARAMS,N4_CORRECTED_IMAGE,T1CE_mask,BrainExtractionBrain_T1)\n",
    "        if os.path.isfile(BrainExtractionBrain_T1) == False:\n",
    "            print(\" ***************BrainExtractionBrain_T1 is fail***************\")\n",
    "            break\n",
    "\n",
    "        print(\"start brain_extraction_T2\")\n",
    "        T2_Warped = f\"{T2_out_direc}/reori_T2_Warped.nii.gz\"\n",
    "        N4_TRUNCATED_IMAGE=f\"{T2_out_direc}/N4Truncated_T2.nii.gz\"\n",
    "        N4_CORRECTED_IMAGE=f\"{T2_out_direc}/N4Corrected_T2.nii.gz\"\n",
    "        BrainExtractionBrain_T2=f\"{T2_out_direc}/BrainExtractionBrain_T2.nii.gz\"\n",
    "        brainextraction_with_mask(N4_TRUNCATED_IMAGE,T2_Warped,N4_CONVERGENCE_1,\n",
    "                                  N4_BSPLINE_PARAMS,N4_CORRECTED_IMAGE,T1CE_mask,BrainExtractionBrain_T2)\n",
    "        if os.path.isfile(BrainExtractionBrain_T2) == False:\n",
    "            print(\" ***************BrainExtractionBrain_T2 is fail***************\")\n",
    "            break\n",
    "\n",
    "        print(\"start brain_extraction_FLAIR\")\n",
    "        FLAIR_Warped = f\"{FLAIR_out_direc}/reori_FLAIR_Warped.nii.gz\"\n",
    "        N4_TRUNCATED_IMAGE=f\"{FLAIR_out_direc}/N4Truncated_FLAIR.nii.gz\"\n",
    "        N4_CORRECTED_IMAGE=f\"{FLAIR_out_direc}/N4Corrected_FLAIR.nii.gz\"\n",
    "        BrainExtractionBrain_FLAIR=f\"{FLAIR_out_direc}/BrainExtractionBrain_FLAIR.nii.gz\"\n",
    "\n",
    "        brainextraction_with_mask(N4_TRUNCATED_IMAGE,FLAIR_Warped,N4_CONVERGENCE_1,\n",
    "                                  N4_BSPLINE_PARAMS,N4_CORRECTED_IMAGE,T1CE_mask,BrainExtractionBrain_FLAIR)\n",
    "        if os.path.isfile(BrainExtractionBrain_FLAIR) == False:\n",
    "            print(\" ***************BrainExtractionBrain_FLAIR is fail***************\")\n",
    "            break\n",
    "\n",
    "        print(\"time:\", time.time() - start)\n",
    "\n",
    "except:\n",
    "    print(\"Ooh Noooooooooooooooooo!!!\")\n",
    "#     server.starttls()\n",
    "#     server.login(email_user,email_password)\n",
    "\n",
    "#     server.sendmail(email_user,email_send,text)\n",
    "#     server.quit()\n",
    "print(f'All preprocessing is done. But {error_lst} has a problem.'  )\n",
    "    \n",
    "    \n",
    "    \n",
    "    \n",
    "    "
   ]
  }
 ],
 "metadata": {
  "kernelspec": {
   "display_name": "Python [conda env:SNUH_DL]",
   "language": "python",
   "name": "conda-env-SNUH_DL-py"
  },
  "language_info": {
   "codemirror_mode": {
    "name": "ipython",
    "version": 3
   },
   "file_extension": ".py",
   "mimetype": "text/x-python",
   "name": "python",
   "nbconvert_exporter": "python",
   "pygments_lexer": "ipython3",
   "version": "3.7.5"
  }
 },
 "nbformat": 4,
 "nbformat_minor": 4
}
